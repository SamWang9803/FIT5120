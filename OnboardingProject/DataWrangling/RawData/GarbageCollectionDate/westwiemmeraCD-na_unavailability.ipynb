{
 "cells": [
  {
   "cell_type": "code",
   "execution_count": 1,
   "metadata": {},
   "outputs": [],
   "source": [
    "import pandas as pd \n",
    "import json \n",
    "import shapefile\n",
    "from shapely.geometry import Point\n",
    "from shapely.geometry.polygon import Polygon\n",
    "import os \n",
    "import json\n",
    "import numpy as np\n",
    "\n",
    "def isNested(entry): \n",
    "    try: \n",
    "        sum(entry)\n",
    "        return 0 \n",
    "    except: \n",
    "        return 1\n",
    "\n",
    "def readInJson(fileName):\n",
    "    try: \n",
    "        df = pd.read_json(fileName)\n",
    "    except: \n",
    "        handle = json.load(open(fileName))\n",
    "        df = pd.DataFrame(handle['features'])\n",
    "        \n",
    "    return df"
   ]
  },
  {
   "cell_type": "code",
   "execution_count": 2,
   "metadata": {},
   "outputs": [],
   "source": [
    "lonlatSuburb = pd.read_csv('lonlatSuburb.csv')\n",
    "vicPostcodes = pd.read_csv('vicPostcodes.csv')\n",
    "\n",
    "lonlatSuburb['lat'] = lonlatSuburb.lat.apply(lambda x: round(x, 4))\n",
    "lonlatSuburb['long'] = lonlatSuburb.long.apply(lambda x: round(x, 4))\n",
    "\n",
    "vicPostcodes['lat'] = vicPostcodes.lat.apply(lambda x: round(x, 6))\n",
    "vicPostcodes['long'] = vicPostcodes.long.apply(lambda x: round(x, 6))"
   ]
  },
  {
   "cell_type": "code",
   "execution_count": 3,
   "metadata": {},
   "outputs": [
    {
     "data": {
      "text/plain": [
       "'WestWimmeraShireCouncil-garbage-collection-zones.json'"
      ]
     },
     "execution_count": 3,
     "metadata": {},
     "output_type": "execute_result"
    }
   ],
   "source": [
    "garbageCollectionDate = sorted([i for i in os.listdir() if i.endswith('json')])\n",
    "\n",
    "garbageCollectionDate[15]"
   ]
  },
  {
   "cell_type": "code",
   "execution_count": 4,
   "metadata": {},
   "outputs": [
    {
     "data": {
      "text/html": [
       "<div>\n",
       "<style scoped>\n",
       "    .dataframe tbody tr th:only-of-type {\n",
       "        vertical-align: middle;\n",
       "    }\n",
       "\n",
       "    .dataframe tbody tr th {\n",
       "        vertical-align: top;\n",
       "    }\n",
       "\n",
       "    .dataframe thead th {\n",
       "        text-align: right;\n",
       "    }\n",
       "</style>\n",
       "<table border=\"1\" class=\"dataframe\">\n",
       "  <thead>\n",
       "    <tr style=\"text-align: right;\">\n",
       "      <th></th>\n",
       "      <th>type</th>\n",
       "      <th>id</th>\n",
       "      <th>geometry</th>\n",
       "      <th>geometry_name</th>\n",
       "      <th>properties</th>\n",
       "    </tr>\n",
       "  </thead>\n",
       "  <tbody>\n",
       "    <tr>\n",
       "      <th>0</th>\n",
       "      <td>Feature</td>\n",
       "      <td>ckan_e77b6c07_39f2_454d_ae72_4976cab1dfb3.1</td>\n",
       "      <td>{'type': 'MultiPolygon', 'coordinates': [[[[14...</td>\n",
       "      <td>geom</td>\n",
       "      <td>{'id': 0, 'route': 'Apsley', 'rub_day': 'Wedne...</td>\n",
       "    </tr>\n",
       "    <tr>\n",
       "      <th>1</th>\n",
       "      <td>Feature</td>\n",
       "      <td>ckan_e77b6c07_39f2_454d_ae72_4976cab1dfb3.2</td>\n",
       "      <td>{'type': 'MultiPolygon', 'coordinates': [[[[14...</td>\n",
       "      <td>geom</td>\n",
       "      <td>{'id': 0, 'route': 'Kaniva', 'rub_day': 'Wedne...</td>\n",
       "    </tr>\n",
       "  </tbody>\n",
       "</table>\n",
       "</div>"
      ],
      "text/plain": [
       "      type                                           id  \\\n",
       "0  Feature  ckan_e77b6c07_39f2_454d_ae72_4976cab1dfb3.1   \n",
       "1  Feature  ckan_e77b6c07_39f2_454d_ae72_4976cab1dfb3.2   \n",
       "\n",
       "                                            geometry geometry_name  \\\n",
       "0  {'type': 'MultiPolygon', 'coordinates': [[[[14...          geom   \n",
       "1  {'type': 'MultiPolygon', 'coordinates': [[[[14...          geom   \n",
       "\n",
       "                                          properties  \n",
       "0  {'id': 0, 'route': 'Apsley', 'rub_day': 'Wedne...  \n",
       "1  {'id': 0, 'route': 'Kaniva', 'rub_day': 'Wedne...  "
      ]
     },
     "execution_count": 4,
     "metadata": {},
     "output_type": "execute_result"
    }
   ],
   "source": [
    "readInJson(garbageCollectionDate[15]).head(2)"
   ]
  },
  {
   "cell_type": "code",
   "execution_count": 21,
   "metadata": {},
   "outputs": [],
   "source": [
    "df = readInJson(garbageCollectionDate[15])\n",
    "\n",
    "df['geo'] = df.geometry.apply(lambda x: x['coordinates'][0][0])\n",
    "\n",
    "df = df.explode('geo')\n",
    "\n",
    "df['geo_nested'] = df.geo.apply(lambda x: isNested(x))\n",
    "df['lat'] = df.geo.apply(lambda x: round(x[0], 4))\n",
    "df['long'] = df.geo.apply(lambda x: round(x[1], 4))\n",
    "\n",
    "df.drop(['geo','id', 'geometry', 'geometry_name',\n",
    "         'geo_nested', 'type'], axis = 1, inplace = True)"
   ]
  },
  {
   "cell_type": "code",
   "execution_count": 16,
   "metadata": {},
   "outputs": [
    {
     "data": {
      "text/plain": [
       "{'id': 0,\n",
       " 'route': 'Apsley',\n",
       " 'rub_day': 'Wednesday',\n",
       " 'rub_start': '2016-03-02',\n",
       " 'rec_day': 'Wednesday',\n",
       " 'rec_start': '2016-03-02',\n",
       " 'info_url': 'http://www.westwimmera.vic.gov.au/waste-management',\n",
       " 'rub_weeks': 1,\n",
       " 'rec_weeks': 2}"
      ]
     },
     "execution_count": 16,
     "metadata": {},
     "output_type": "execute_result"
    }
   ],
   "source": [
    "df.iloc[0,0]"
   ]
  },
  {
   "cell_type": "code",
   "execution_count": 22,
   "metadata": {},
   "outputs": [],
   "source": [
    "def collectionFrequency(row, wasteType): \n",
    "    \n",
    "    rub_colDay = row[f'{wasteType}_day']\n",
    "    rub_colFreq = row[f'{wasteType}_weeks']\n",
    "    \n",
    "    if rub_colFreq == '2' or rub_colFreq == 2: \n",
    "        rub_colFreq = 'Every Second '\n",
    "    else: \n",
    "        rub_colFreq = 'Every '\n",
    "        \n",
    "    if rub_colDay in [None, 'None']:\n",
    "        rub_colDay = ''\n",
    "    elif rub_colFreq == [None, 'None']: \n",
    "        rub_colFreq = ''\n",
    "        \n",
    "    returningStr = rub_colFreq + rub_colDay\n",
    "    \n",
    "    if len(returningStr.split())>1:\n",
    "         return returningStr\n",
    "    else: \n",
    "        return 'Unavailable'\n",
    "\n",
    "df['landfill_colDay'] = df.properties.apply(lambda x: collectionFrequency(x, 'rub'))\n",
    "df['recyclable_colDay'] = df.properties.apply(lambda x: collectionFrequency(x, 'rec'))\n",
    "\n",
    "df.drop('properties', axis = 1, inplace = True)"
   ]
  },
  {
   "cell_type": "code",
   "execution_count": 23,
   "metadata": {},
   "outputs": [
    {
     "data": {
      "text/html": [
       "<div>\n",
       "<style scoped>\n",
       "    .dataframe tbody tr th:only-of-type {\n",
       "        vertical-align: middle;\n",
       "    }\n",
       "\n",
       "    .dataframe tbody tr th {\n",
       "        vertical-align: top;\n",
       "    }\n",
       "\n",
       "    .dataframe thead th {\n",
       "        text-align: right;\n",
       "    }\n",
       "</style>\n",
       "<table border=\"1\" class=\"dataframe\">\n",
       "  <thead>\n",
       "    <tr style=\"text-align: right;\">\n",
       "      <th></th>\n",
       "      <th>lat</th>\n",
       "      <th>long</th>\n",
       "      <th>landfill_colDay</th>\n",
       "      <th>recyclable_colDay</th>\n",
       "    </tr>\n",
       "  </thead>\n",
       "  <tbody>\n",
       "    <tr>\n",
       "      <th>0</th>\n",
       "      <td>141.0638</td>\n",
       "      <td>-36.9568</td>\n",
       "      <td>Every Wednesday</td>\n",
       "      <td>Every Second Wednesday</td>\n",
       "    </tr>\n",
       "    <tr>\n",
       "      <th>0</th>\n",
       "      <td>141.0651</td>\n",
       "      <td>-36.9569</td>\n",
       "      <td>Every Wednesday</td>\n",
       "      <td>Every Second Wednesday</td>\n",
       "    </tr>\n",
       "    <tr>\n",
       "      <th>0</th>\n",
       "      <td>141.0658</td>\n",
       "      <td>-36.9569</td>\n",
       "      <td>Every Wednesday</td>\n",
       "      <td>Every Second Wednesday</td>\n",
       "    </tr>\n",
       "    <tr>\n",
       "      <th>0</th>\n",
       "      <td>141.0674</td>\n",
       "      <td>-36.9570</td>\n",
       "      <td>Every Wednesday</td>\n",
       "      <td>Every Second Wednesday</td>\n",
       "    </tr>\n",
       "    <tr>\n",
       "      <th>0</th>\n",
       "      <td>141.0815</td>\n",
       "      <td>-36.9583</td>\n",
       "      <td>Every Wednesday</td>\n",
       "      <td>Every Second Wednesday</td>\n",
       "    </tr>\n",
       "    <tr>\n",
       "      <th>...</th>\n",
       "      <td>...</td>\n",
       "      <td>...</td>\n",
       "      <td>...</td>\n",
       "      <td>...</td>\n",
       "    </tr>\n",
       "    <tr>\n",
       "      <th>10</th>\n",
       "      <td>141.0838</td>\n",
       "      <td>-36.9576</td>\n",
       "      <td>Every Wednesday</td>\n",
       "      <td>Unavailable</td>\n",
       "    </tr>\n",
       "    <tr>\n",
       "      <th>10</th>\n",
       "      <td>141.0838</td>\n",
       "      <td>-36.9576</td>\n",
       "      <td>Every Wednesday</td>\n",
       "      <td>Unavailable</td>\n",
       "    </tr>\n",
       "    <tr>\n",
       "      <th>10</th>\n",
       "      <td>141.0837</td>\n",
       "      <td>-36.9584</td>\n",
       "      <td>Every Wednesday</td>\n",
       "      <td>Unavailable</td>\n",
       "    </tr>\n",
       "    <tr>\n",
       "      <th>10</th>\n",
       "      <td>141.0837</td>\n",
       "      <td>-36.9584</td>\n",
       "      <td>Every Wednesday</td>\n",
       "      <td>Unavailable</td>\n",
       "    </tr>\n",
       "    <tr>\n",
       "      <th>10</th>\n",
       "      <td>141.0837</td>\n",
       "      <td>-36.9584</td>\n",
       "      <td>Every Wednesday</td>\n",
       "      <td>Unavailable</td>\n",
       "    </tr>\n",
       "  </tbody>\n",
       "</table>\n",
       "<p>4970 rows × 4 columns</p>\n",
       "</div>"
      ],
      "text/plain": [
       "         lat     long  landfill_colDay       recyclable_colDay\n",
       "0   141.0638 -36.9568  Every Wednesday  Every Second Wednesday\n",
       "0   141.0651 -36.9569  Every Wednesday  Every Second Wednesday\n",
       "0   141.0658 -36.9569  Every Wednesday  Every Second Wednesday\n",
       "0   141.0674 -36.9570  Every Wednesday  Every Second Wednesday\n",
       "0   141.0815 -36.9583  Every Wednesday  Every Second Wednesday\n",
       "..       ...      ...              ...                     ...\n",
       "10  141.0838 -36.9576  Every Wednesday             Unavailable\n",
       "10  141.0838 -36.9576  Every Wednesday             Unavailable\n",
       "10  141.0837 -36.9584  Every Wednesday             Unavailable\n",
       "10  141.0837 -36.9584  Every Wednesday             Unavailable\n",
       "10  141.0837 -36.9584  Every Wednesday             Unavailable\n",
       "\n",
       "[4970 rows x 4 columns]"
      ]
     },
     "execution_count": 23,
     "metadata": {},
     "output_type": "execute_result"
    }
   ],
   "source": [
    "df"
   ]
  },
  {
   "cell_type": "code",
   "execution_count": 24,
   "metadata": {},
   "outputs": [
    {
     "data": {
      "text/html": [
       "<div>\n",
       "<style scoped>\n",
       "    .dataframe tbody tr th:only-of-type {\n",
       "        vertical-align: middle;\n",
       "    }\n",
       "\n",
       "    .dataframe tbody tr th {\n",
       "        vertical-align: top;\n",
       "    }\n",
       "\n",
       "    .dataframe thead th {\n",
       "        text-align: right;\n",
       "    }\n",
       "</style>\n",
       "<table border=\"1\" class=\"dataframe\">\n",
       "  <thead>\n",
       "    <tr style=\"text-align: right;\">\n",
       "      <th></th>\n",
       "      <th>locality</th>\n",
       "      <th>long</th>\n",
       "      <th>lat</th>\n",
       "      <th>landfill_colDay</th>\n",
       "      <th>recyclable_colDay</th>\n",
       "    </tr>\n",
       "  </thead>\n",
       "  <tbody>\n",
       "  </tbody>\n",
       "</table>\n",
       "</div>"
      ],
      "text/plain": [
       "Empty DataFrame\n",
       "Columns: [locality, long, lat, landfill_colDay, recyclable_colDay]\n",
       "Index: []"
      ]
     },
     "execution_count": 24,
     "metadata": {},
     "output_type": "execute_result"
    }
   ],
   "source": [
    "lonlatSuburb.merge(df)[['locality', 'long', 'lat', 'landfill_colDay', 'recyclable_colDay']]"
   ]
  },
  {
   "cell_type": "code",
   "execution_count": 25,
   "metadata": {},
   "outputs": [],
   "source": [
    "ww = lonlatSuburb.merge(df)[['locality', 'long', 'lat', 'landfill_colDay', 'recyclable_colDay']]\\\n",
    ".sort_values(['locality', 'landfill_colDay', 'recyclable_colDay'])\\\n",
    "        .drop_duplicates(['locality','recyclable_colDay', 'landfill_colDay', 'recyclable_colDay'])\\\n",
    "        .sort_values(['locality'])\\\n",
    ".merge(vicPostcodes[['locality', 'postcode']])\\\n",
    ".sort_values(['postcode', 'landfill_colDay', 'recyclable_colDay'])\\\n",
    ".drop_duplicates(subset = ['postcode', 'landfill_colDay', 'recyclable_colDay'])\\\n",
    ".rename(columns = dict(zip(['landfill_colDay', 'landfill_colDay', 'recyclable_colDay'], \n",
    "                           ['landfill', 'landfill', 'recyclable'])))\\\n",
    ".drop(['long', 'lat', 'locality'], axis = 1)\\\n",
    ".melt(id_vars = 'postcode')\\\n",
    ".rename(columns = {'variable':'binInfo_bin_type', 'value':'collection_time'})\\\n",
    ".drop_duplicates(['postcode', 'binInfo_bin_type'])\n",
    "\n",
    "ww.to_csv('../GBD_wwa.csv', index = False)"
   ]
  }
 ],
 "metadata": {
  "kernelspec": {
   "display_name": "Python 3",
   "language": "python",
   "name": "python3"
  },
  "language_info": {
   "codemirror_mode": {
    "name": "ipython",
    "version": 3
   },
   "file_extension": ".py",
   "mimetype": "text/x-python",
   "name": "python",
   "nbconvert_exporter": "python",
   "pygments_lexer": "ipython3",
   "version": "3.8.5"
  }
 },
 "nbformat": 4,
 "nbformat_minor": 4
}
