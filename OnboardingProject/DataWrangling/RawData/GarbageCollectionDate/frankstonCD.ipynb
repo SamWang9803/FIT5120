{
 "cells": [
  {
   "cell_type": "code",
   "execution_count": 1,
   "metadata": {},
   "outputs": [],
   "source": [
    "import pandas as pd \n",
    "import json \n",
    "import shapefile\n",
    "from shapely.geometry import Point\n",
    "from shapely.geometry.polygon import Polygon\n",
    "import os \n",
    "import json\n",
    "import numpy as np"
   ]
  },
  {
   "cell_type": "code",
   "execution_count": 2,
   "metadata": {},
   "outputs": [],
   "source": [
    "def isNested(entry): \n",
    "    try: \n",
    "        sum(entry)\n",
    "        return 0 \n",
    "    except: \n",
    "        return 1"
   ]
  },
  {
   "cell_type": "code",
   "execution_count": 3,
   "metadata": {},
   "outputs": [],
   "source": [
    "def readInJson(fileName):\n",
    "    try: \n",
    "        df = pd.read_json(fileName)\n",
    "    except: \n",
    "        handle = json.load(open(fileName))\n",
    "        df = pd.DataFrame(handle['features'])\n",
    "        \n",
    "    return df"
   ]
  },
  {
   "cell_type": "code",
   "execution_count": 4,
   "metadata": {},
   "outputs": [],
   "source": [
    "garbageCollectionDate = sorted([i for i in os.listdir() if i.endswith('json')])"
   ]
  },
  {
   "cell_type": "code",
   "execution_count": 5,
   "metadata": {},
   "outputs": [],
   "source": [
    "lonlatSuburb = pd.read_csv('lonlatSuburb.csv')\n",
    "vicPostcodes = pd.read_csv('vicPostcodes.csv')\n",
    "\n",
    "lonlatSuburb['lat'] = lonlatSuburb.lat.apply(lambda x: round(x, 4))\n",
    "lonlatSuburb['long'] = lonlatSuburb.long.apply(lambda x: round(x, 4))\n",
    "\n",
    "vicPostcodes['lat'] = vicPostcodes.lat.apply(lambda x: round(x, 6))\n",
    "vicPostcodes['long'] = vicPostcodes.long.apply(lambda x: round(x, 6))"
   ]
  },
  {
   "cell_type": "code",
   "execution_count": 6,
   "metadata": {},
   "outputs": [
    {
     "data": {
      "text/html": [
       "<div>\n",
       "<style scoped>\n",
       "    .dataframe tbody tr th:only-of-type {\n",
       "        vertical-align: middle;\n",
       "    }\n",
       "\n",
       "    .dataframe tbody tr th {\n",
       "        vertical-align: top;\n",
       "    }\n",
       "\n",
       "    .dataframe thead th {\n",
       "        text-align: right;\n",
       "    }\n",
       "</style>\n",
       "<table border=\"1\" class=\"dataframe\">\n",
       "  <thead>\n",
       "    <tr style=\"text-align: right;\">\n",
       "      <th></th>\n",
       "      <th>type</th>\n",
       "      <th>name</th>\n",
       "      <th>features</th>\n",
       "    </tr>\n",
       "  </thead>\n",
       "  <tbody>\n",
       "    <tr>\n",
       "      <th>0</th>\n",
       "      <td>FeatureCollection</td>\n",
       "      <td>Frankston City Council Garbage Collection Zones</td>\n",
       "      <td>{'type': 'Feature', 'geometry': {'type': 'Mult...</td>\n",
       "    </tr>\n",
       "    <tr>\n",
       "      <th>1</th>\n",
       "      <td>FeatureCollection</td>\n",
       "      <td>Frankston City Council Garbage Collection Zones</td>\n",
       "      <td>{'type': 'Feature', 'geometry': {'type': 'Poly...</td>\n",
       "    </tr>\n",
       "  </tbody>\n",
       "</table>\n",
       "</div>"
      ],
      "text/plain": [
       "                type                                             name  \\\n",
       "0  FeatureCollection  Frankston City Council Garbage Collection Zones   \n",
       "1  FeatureCollection  Frankston City Council Garbage Collection Zones   \n",
       "\n",
       "                                            features  \n",
       "0  {'type': 'Feature', 'geometry': {'type': 'Mult...  \n",
       "1  {'type': 'Feature', 'geometry': {'type': 'Poly...  "
      ]
     },
     "execution_count": 6,
     "metadata": {},
     "output_type": "execute_result"
    }
   ],
   "source": [
    "readInJson(garbageCollectionDate[4]).head(2)"
   ]
  },
  {
   "cell_type": "code",
   "execution_count": 7,
   "metadata": {},
   "outputs": [],
   "source": [
    "df = readInJson(garbageCollectionDate[4])\n",
    "\n",
    "df['properties'] = df.features.apply(lambda x: x['properties'])\n",
    "\n",
    "df['geo'] = df.features.apply(lambda x: x['geometry']['coordinates'][0])\n",
    "\n",
    "df = df.explode('geo')\n",
    "df['geo_nested'] = df.geo.apply(lambda x: isNested(x))\n",
    "\n",
    "nested = df.loc[df.geo_nested == 1].explode('geo')\n",
    "unnested = df.loc[df.geo_nested == 0]\n",
    "\n",
    "df = pd.concat([nested, unnested])\n",
    "\n",
    "df['lat'] = df.geo.apply(lambda x: round(x[0], 4))\n",
    "df['long'] = df.geo.apply(lambda x: round(x[1], 4))\n",
    "\n",
    "df.drop(['geo', 'features', 'type', 'name', 'geo_nested'], axis = 1, inplace = True)"
   ]
  },
  {
   "cell_type": "code",
   "execution_count": 9,
   "metadata": {},
   "outputs": [
    {
     "data": {
      "text/plain": [
       "{'rub_day': 'Tuesday',\n",
       " 'rub_weeks': 1,\n",
       " 'rub_start': '20170103',\n",
       " 'rec_day': 'Tuesday',\n",
       " 'rec_weeks': 2,\n",
       " 'rec_start': '20120110',\n",
       " 'grn_day': 'Tuesday',\n",
       " 'grn_weeks': 2,\n",
       " 'grn_start': '20120103',\n",
       " 'Click for more information': 'https://www.frankston.vic.gov.au/Environment-and-Waste/Waste-and-Recycling/Bin-Information',\n",
       " 'missed_ph': '1300 322 322'}"
      ]
     },
     "execution_count": 9,
     "metadata": {},
     "output_type": "execute_result"
    }
   ],
   "source": [
    "df.iloc[0,0]"
   ]
  },
  {
   "cell_type": "code",
   "execution_count": 10,
   "metadata": {},
   "outputs": [],
   "source": [
    "def collectionFrequency(row, wasteType): \n",
    "    \n",
    "    rub_colDay = row[f'{wasteType}_day']\n",
    "    rub_colFreq = row[f'{wasteType}_weeks']\n",
    "    \n",
    "    if rub_colFreq == '2' or rub_colFreq == 2: \n",
    "        rub_colFreq = 'Every Second '\n",
    "    else: \n",
    "        rub_colFreq = 'Every '\n",
    "    \n",
    "    return rub_colFreq + rub_colDay\n",
    "\n",
    "df['landfill_colDay'] = df.properties.apply(lambda x: collectionFrequency(x, 'rub'))\n",
    "df['recyclable_colDay'] = df.properties.apply(lambda x: collectionFrequency(x, 'rec'))\n",
    "df['green_colDay'] = df.properties.apply(lambda x: collectionFrequency(x, 'grn'))\n",
    "\n",
    "df.drop('properties', axis = 1, inplace = True)"
   ]
  },
  {
   "cell_type": "code",
   "execution_count": 14,
   "metadata": {},
   "outputs": [],
   "source": [
    "frankston = lonlatSuburb.merge(df)[['locality', 'long', 'lat', 'landfill_colDay', 'recyclable_colDay', 'green_colDay']]\\\n",
    ".sort_values(['locality', 'landfill_colDay', 'recyclable_colDay', 'green_colDay'])\\\n",
    "        .drop_duplicates(['locality','recyclable_colDay', 'recyclable_colDay', 'green_colDay'])\\\n",
    "        .sort_values(['locality'])\\\n",
    ".merge(vicPostcodes[['locality', 'postcode']])\\\n",
    ".sort_values(['postcode', 'landfill_colDay', 'recyclable_colDay', 'green_colDay'])\\\n",
    ".drop_duplicates(subset = ['postcode', 'landfill_colDay', 'recyclable_colDay', 'green_colDay'])\\\n",
    ".rename(columns = dict(zip(['landfill_colDay', 'recyclable_colDay', 'green_colDay'], \n",
    "                           ['landfill', 'recyclable', 'organics'])))\\\n",
    ".drop(['long', 'lat', 'locality'], axis = 1)\\\n",
    ".melt(id_vars = 'postcode')\\\n",
    ".rename(columns = {'variable':'binInfo_bin_type', 'value':'collection_time'})\\\n",
    ".drop_duplicates(['postcode', 'binInfo_bin_type'])\n",
    "\n",
    "frankston.to_csv('../GBD_frankston.csv', index = False)"
   ]
  }
 ],
 "metadata": {
  "kernelspec": {
   "display_name": "Python 3",
   "language": "python",
   "name": "python3"
  },
  "language_info": {
   "codemirror_mode": {
    "name": "ipython",
    "version": 3
   },
   "file_extension": ".py",
   "mimetype": "text/x-python",
   "name": "python",
   "nbconvert_exporter": "python",
   "pygments_lexer": "ipython3",
   "version": "3.8.5"
  }
 },
 "nbformat": 4,
 "nbformat_minor": 4
}
