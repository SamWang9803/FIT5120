{
 "cells": [
  {
   "cell_type": "code",
   "execution_count": 1,
   "metadata": {},
   "outputs": [],
   "source": [
    "import pandas as pd \n",
    "import json \n",
    "import shapefile\n",
    "from shapely.geometry import Point\n",
    "from shapely.geometry.polygon import Polygon\n",
    "import os \n",
    "import json\n",
    "import numpy as np\n",
    "\n",
    "def isNested(entry): \n",
    "    try: \n",
    "        sum(entry)\n",
    "        return 0 \n",
    "    except: \n",
    "        return 1\n",
    "\n",
    "def readInJson(fileName):\n",
    "    try: \n",
    "        df = pd.read_json(fileName)\n",
    "    except: \n",
    "        handle = json.load(open(fileName))\n",
    "        df = pd.DataFrame(handle['features'])\n",
    "        \n",
    "    return df\n",
    "\n",
    "lonlatSuburb = pd.read_csv('lonlatSuburb.csv')\n",
    "vicPostcodes = pd.read_csv('vicPostcodes.csv')\n",
    "\n",
    "lonlatSuburb['lat'] = lonlatSuburb.lat.apply(lambda x: round(x, 4))\n",
    "lonlatSuburb['long'] = lonlatSuburb.long.apply(lambda x: round(x, 4))\n",
    "\n",
    "vicPostcodes['lat'] = vicPostcodes.lat.apply(lambda x: round(x, 6))\n",
    "vicPostcodes['long'] = vicPostcodes.long.apply(lambda x: round(x, 6))"
   ]
  },
  {
   "cell_type": "code",
   "execution_count": 2,
   "metadata": {},
   "outputs": [
    {
     "data": {
      "text/plain": [
       "'ballarat-garbage-collection-zones.json'"
      ]
     },
     "execution_count": 2,
     "metadata": {},
     "output_type": "execute_result"
    }
   ],
   "source": [
    "garbageCollectionDate = sorted([i for i in os.listdir() if i.endswith('json')])\n",
    "\n",
    "garbageCollectionDate[20]"
   ]
  },
  {
   "cell_type": "code",
   "execution_count": 3,
   "metadata": {},
   "outputs": [
    {
     "data": {
      "text/html": [
       "<div>\n",
       "<style scoped>\n",
       "    .dataframe tbody tr th:only-of-type {\n",
       "        vertical-align: middle;\n",
       "    }\n",
       "\n",
       "    .dataframe tbody tr th {\n",
       "        vertical-align: top;\n",
       "    }\n",
       "\n",
       "    .dataframe thead th {\n",
       "        text-align: right;\n",
       "    }\n",
       "</style>\n",
       "<table border=\"1\" class=\"dataframe\">\n",
       "  <thead>\n",
       "    <tr style=\"text-align: right;\">\n",
       "      <th></th>\n",
       "      <th>type</th>\n",
       "      <th>id</th>\n",
       "      <th>geometry</th>\n",
       "      <th>geometry_name</th>\n",
       "      <th>properties</th>\n",
       "    </tr>\n",
       "  </thead>\n",
       "  <tbody>\n",
       "    <tr>\n",
       "      <th>0</th>\n",
       "      <td>Feature</td>\n",
       "      <td>ckan_4a7a3e5b_a20c_431e_bd21_ada983b0566f.1</td>\n",
       "      <td>{'type': 'MultiPolygon', 'coordinates': [[[[14...</td>\n",
       "      <td>geom</td>\n",
       "      <td>{'collection': 'Friday Collection 1', 'waste':...</td>\n",
       "    </tr>\n",
       "    <tr>\n",
       "      <th>1</th>\n",
       "      <td>Feature</td>\n",
       "      <td>ckan_4a7a3e5b_a20c_431e_bd21_ada983b0566f.2</td>\n",
       "      <td>{'type': 'MultiPolygon', 'coordinates': [[[[14...</td>\n",
       "      <td>geom</td>\n",
       "      <td>{'collection': 'Friday Collection 2', 'waste':...</td>\n",
       "    </tr>\n",
       "  </tbody>\n",
       "</table>\n",
       "</div>"
      ],
      "text/plain": [
       "      type                                           id  \\\n",
       "0  Feature  ckan_4a7a3e5b_a20c_431e_bd21_ada983b0566f.1   \n",
       "1  Feature  ckan_4a7a3e5b_a20c_431e_bd21_ada983b0566f.2   \n",
       "\n",
       "                                            geometry geometry_name  \\\n",
       "0  {'type': 'MultiPolygon', 'coordinates': [[[[14...          geom   \n",
       "1  {'type': 'MultiPolygon', 'coordinates': [[[[14...          geom   \n",
       "\n",
       "                                          properties  \n",
       "0  {'collection': 'Friday Collection 1', 'waste':...  \n",
       "1  {'collection': 'Friday Collection 2', 'waste':...  "
      ]
     },
     "execution_count": 3,
     "metadata": {},
     "output_type": "execute_result"
    }
   ],
   "source": [
    "readInJson(garbageCollectionDate[20]).head(2)"
   ]
  },
  {
   "cell_type": "code",
   "execution_count": 4,
   "metadata": {},
   "outputs": [],
   "source": [
    "df = readInJson(garbageCollectionDate[20])\n",
    "\n",
    "df['geo'] = df.geometry.apply(lambda x: x['coordinates'][0][0])\n",
    "\n",
    "df = df.explode('geo')\n",
    "\n",
    "df['geo_nested'] = df.geo.apply(lambda x: isNested(x))\n",
    "df['lat'] = df.geo.apply(lambda x: round(x[0], 4))\n",
    "df['long'] = df.geo.apply(lambda x: round(x[1], 4))\n",
    "\n",
    "df.drop(['geo','id', 'geometry', 'geometry_name',\n",
    "         'geo_nested', 'type'], axis = 1, inplace = True)"
   ]
  },
  {
   "cell_type": "code",
   "execution_count": 5,
   "metadata": {},
   "outputs": [],
   "source": [
    "newCols = ['landfill_colDay', \n",
    "           'recyclable_colDay']\n",
    "\n",
    "newColsKeys = ['waste', \n",
    "               'recycle']\n",
    "\n",
    "for key, val in dict(zip(newCols, newColsKeys)).items(): \n",
    "    df[key] = df.properties.apply(lambda x: x[val])\n",
    "    \n",
    "for i in ['landfill', 'recyclable']: \n",
    "    df[f'{i}_date'] = df[f'{i}_colDay'].apply(lambda x: x.split('/')[1])\n",
    "    df[f'{i}_date'] = pd.to_datetime(df[f'{i}_date'], format='%Y-%m-%d').dt.day_name()\n",
    "    df[f'{i}_freq'] = df[f'{i}_colDay'].apply(lambda x: x.split('/')[-1])\n",
    "    df[f'{i}_freq'] = df[f'{i}_freq'].apply(lambda x: 'Every Second ' if x == 'P2W' else 'Every ')\n",
    "    \n",
    "    df[f'{i}_colDay'] = df[f'{i}_freq'] + df[f'{i}_date']\n",
    "    \n",
    "    df.drop([f'{i}_freq', f'{i}_date'], axis = 1, inplace = True)"
   ]
  },
  {
   "cell_type": "code",
   "execution_count": 6,
   "metadata": {},
   "outputs": [],
   "source": [
    "ballarat = lonlatSuburb.merge(df)[['locality', 'long', 'lat', 'landfill_colDay', 'recyclable_colDay']]\\\n",
    ".sort_values(['locality', 'landfill_colDay', 'recyclable_colDay'])\\\n",
    "        .drop_duplicates(['locality','recyclable_colDay', 'landfill_colDay', 'recyclable_colDay'])\\\n",
    "        .sort_values(['locality'])\\\n",
    ".merge(vicPostcodes[['locality', 'postcode']])\\\n",
    ".sort_values(['postcode', 'landfill_colDay', 'recyclable_colDay'])\\\n",
    ".drop_duplicates(subset = ['postcode', 'landfill_colDay', 'recyclable_colDay'])\\\n",
    ".rename(columns = dict(zip(['landfill_colDay', 'landfill_colDay', 'recyclable_colDay'], \n",
    "                           ['landfill', 'landfill', 'recyclable'])))\\\n",
    ".drop(['long', 'lat', 'locality'], axis = 1)\\\n",
    ".melt(id_vars = 'postcode')\\\n",
    ".rename(columns = {'variable':'binInfo_bin_type', 'value':'collection_time'})\\\n",
    ".drop_duplicates(['postcode', 'binInfo_bin_type'])\n",
    "\n",
    "ballarat.to_csv('../GBD_ballarat.csv', index = False)"
   ]
  }
 ],
 "metadata": {
  "kernelspec": {
   "display_name": "Python 3",
   "language": "python",
   "name": "python3"
  },
  "language_info": {
   "codemirror_mode": {
    "name": "ipython",
    "version": 3
   },
   "file_extension": ".py",
   "mimetype": "text/x-python",
   "name": "python",
   "nbconvert_exporter": "python",
   "pygments_lexer": "ipython3",
   "version": "3.8.5"
  }
 },
 "nbformat": 4,
 "nbformat_minor": 4
}
