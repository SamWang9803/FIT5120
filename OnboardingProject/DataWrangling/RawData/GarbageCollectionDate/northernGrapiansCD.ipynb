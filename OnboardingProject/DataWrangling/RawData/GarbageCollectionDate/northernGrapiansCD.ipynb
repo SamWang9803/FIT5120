{
 "cells": [
  {
   "cell_type": "code",
   "execution_count": 1,
   "metadata": {},
   "outputs": [],
   "source": [
    "import pandas as pd \n",
    "import json \n",
    "import shapefile\n",
    "from shapely.geometry import Point\n",
    "from shapely.geometry.polygon import Polygon\n",
    "import os \n",
    "import json\n",
    "import numpy as np"
   ]
  },
  {
   "cell_type": "code",
   "execution_count": 4,
   "metadata": {},
   "outputs": [],
   "source": [
    "def isNested(entry): \n",
    "    try: \n",
    "        sum(entry)\n",
    "        return 0 \n",
    "    except: \n",
    "        return 1\n",
    "\n",
    "def readInJson(fileName):\n",
    "    try: \n",
    "        df = pd.read_json(fileName)\n",
    "    except: \n",
    "        handle = json.load(open(fileName))\n",
    "        df = pd.DataFrame(handle['features'])\n",
    "        \n",
    "    return df\n",
    "\n",
    "lonlatSuburb = pd.read_csv('lonlatSuburb.csv')\n",
    "vicPostcodes = pd.read_csv('vicPostcodes.csv')\n",
    "\n",
    "lonlatSuburb['lat'] = lonlatSuburb.lat.apply(lambda x: round(x, 6))\n",
    "lonlatSuburb['long'] = lonlatSuburb.long.apply(lambda x: round(x, 6))\n",
    "\n",
    "vicPostcodes['lat'] = vicPostcodes.lat.apply(lambda x: round(x, 6))\n",
    "vicPostcodes['long'] = vicPostcodes.long.apply(lambda x: round(x, 6))"
   ]
  },
  {
   "cell_type": "code",
   "execution_count": 17,
   "metadata": {},
   "outputs": [
    {
     "data": {
      "text/plain": [
       "'PortPhillip-garbage-collection-zones.geojson'"
      ]
     },
     "execution_count": 17,
     "metadata": {},
     "output_type": "execute_result"
    }
   ],
   "source": [
    "garbageCollectionDate = sorted([i for i in os.listdir() if i.endswith('json')])\n",
    "\n",
    "garbageCollectionDate[11]"
   ]
  },
  {
   "cell_type": "code",
   "execution_count": 6,
   "metadata": {},
   "outputs": [
    {
     "data": {
      "text/html": [
       "<div>\n",
       "<style scoped>\n",
       "    .dataframe tbody tr th:only-of-type {\n",
       "        vertical-align: middle;\n",
       "    }\n",
       "\n",
       "    .dataframe tbody tr th {\n",
       "        vertical-align: top;\n",
       "    }\n",
       "\n",
       "    .dataframe thead th {\n",
       "        text-align: right;\n",
       "    }\n",
       "</style>\n",
       "<table border=\"1\" class=\"dataframe\">\n",
       "  <thead>\n",
       "    <tr style=\"text-align: right;\">\n",
       "      <th></th>\n",
       "      <th>type</th>\n",
       "      <th>id</th>\n",
       "      <th>geometry</th>\n",
       "      <th>geometry_name</th>\n",
       "      <th>properties</th>\n",
       "    </tr>\n",
       "  </thead>\n",
       "  <tbody>\n",
       "    <tr>\n",
       "      <th>0</th>\n",
       "      <td>Feature</td>\n",
       "      <td>ckan_f5d810f3_9b62_43c9_9a4e_e3afda01fe62.1</td>\n",
       "      <td>{'type': 'MultiPolygon', 'coordinates': [[[[14...</td>\n",
       "      <td>geom</td>\n",
       "      <td>{'linkfield': 'Halls Gap Monday', 'route': 'Ha...</td>\n",
       "    </tr>\n",
       "    <tr>\n",
       "      <th>1</th>\n",
       "      <td>Feature</td>\n",
       "      <td>ckan_f5d810f3_9b62_43c9_9a4e_e3afda01fe62.2</td>\n",
       "      <td>{'type': 'MultiPolygon', 'coordinates': [[[[14...</td>\n",
       "      <td>geom</td>\n",
       "      <td>{'linkfield': 'Rural Monday', 'route': 'Rural'...</td>\n",
       "    </tr>\n",
       "  </tbody>\n",
       "</table>\n",
       "</div>"
      ],
      "text/plain": [
       "      type                                           id  \\\n",
       "0  Feature  ckan_f5d810f3_9b62_43c9_9a4e_e3afda01fe62.1   \n",
       "1  Feature  ckan_f5d810f3_9b62_43c9_9a4e_e3afda01fe62.2   \n",
       "\n",
       "                                            geometry geometry_name  \\\n",
       "0  {'type': 'MultiPolygon', 'coordinates': [[[[14...          geom   \n",
       "1  {'type': 'MultiPolygon', 'coordinates': [[[[14...          geom   \n",
       "\n",
       "                                          properties  \n",
       "0  {'linkfield': 'Halls Gap Monday', 'route': 'Ha...  \n",
       "1  {'linkfield': 'Rural Monday', 'route': 'Rural'...  "
      ]
     },
     "execution_count": 6,
     "metadata": {},
     "output_type": "execute_result"
    }
   ],
   "source": [
    "readInJson(garbageCollectionDate[10]).head(2)"
   ]
  },
  {
   "cell_type": "code",
   "execution_count": 7,
   "metadata": {},
   "outputs": [],
   "source": [
    "df = readInJson(garbageCollectionDate[10])\n",
    "df['geo'] = df.geometry.apply(lambda x: x['coordinates'][0][0])\n",
    "\n",
    "df = df.explode('geo')\n",
    "\n",
    "df['geo_nested'] = df.geo.apply(lambda x: isNested(x))\n",
    "df['lat'] = df.geo.apply(lambda x: round(x[0], 6))\n",
    "df['long'] = df.geo.apply(lambda x: round(x[1], 6))\n",
    "\n",
    "df.drop(['geo','id', 'geometry', 'geometry_name',\n",
    "         'geo_nested', 'type'], axis = 1, inplace = True)"
   ]
  },
  {
   "cell_type": "code",
   "execution_count": 9,
   "metadata": {},
   "outputs": [
    {
     "data": {
      "text/plain": [
       "{'linkfield': 'Halls Gap Monday',\n",
       " 'route': 'Halls Gap',\n",
       " 'rub_day': 'Monday',\n",
       " 'style': None,\n",
       " 'id': 0,\n",
       " 'rub_week': 1,\n",
       " 'rub_start': '2018-11-19',\n",
       " 'rec_day': 'Monday',\n",
       " 'rec_week': 2,\n",
       " 'rec_start': '2018-11-12',\n",
       " 'info_url': 'https://www.ngshire.vic.gov.au/Council-Services/Bins-recycling-and-waste'}"
      ]
     },
     "execution_count": 9,
     "metadata": {},
     "output_type": "execute_result"
    }
   ],
   "source": [
    "df.iloc[0,0]"
   ]
  },
  {
   "cell_type": "code",
   "execution_count": 10,
   "metadata": {},
   "outputs": [],
   "source": [
    "ks = list(df.iloc[0,0].keys())\n",
    "for i in range(df.shape[0]): \n",
    "    na = [x for x in list(df.iloc[i,0]) if x not in ks]\n",
    "    if na: \n",
    "        print(na)"
   ]
  },
  {
   "cell_type": "code",
   "execution_count": 11,
   "metadata": {},
   "outputs": [],
   "source": [
    "def collectionFrequency(row, wasteType): \n",
    "    \n",
    "    rub_colDay = row[f'{wasteType}_day']\n",
    "    rub_colFreq = row[f'{wasteType}_week']\n",
    "    \n",
    "    if rub_colFreq == '2' or rub_colFreq == 2: \n",
    "        rub_colFreq = 'Every Second '\n",
    "    else: \n",
    "        rub_colFreq = 'Every '\n",
    "    \n",
    "    return rub_colFreq + rub_colDay\n",
    "\n",
    "df['landfill_colDay'] = df.properties.apply(lambda x: collectionFrequency(x, 'rub'))\n",
    "df['recyclable_colDay'] = df.properties.apply(lambda x: collectionFrequency(x, 'rec'))\n",
    "\n",
    "df.drop('properties', axis = 1, inplace = True)"
   ]
  },
  {
   "cell_type": "code",
   "execution_count": 16,
   "metadata": {},
   "outputs": [],
   "source": [
    "northerGrapians = lonlatSuburb.merge(df)[['locality', 'long', 'lat', 'landfill_colDay', 'recyclable_colDay']]\\\n",
    ".sort_values(['locality', 'landfill_colDay', 'recyclable_colDay'])\\\n",
    "        .drop_duplicates(['locality','recyclable_colDay', 'landfill_colDay', 'recyclable_colDay'])\\\n",
    "        .sort_values(['locality'])\\\n",
    ".merge(vicPostcodes[['locality', 'postcode']])\\\n",
    ".sort_values(['postcode', 'landfill_colDay', 'recyclable_colDay'])\\\n",
    ".drop_duplicates(subset = ['postcode', 'landfill_colDay', 'recyclable_colDay'])\\\n",
    ".rename(columns = dict(zip(['landfill_colDay', 'landfill_colDay', 'recyclable_colDay'], \n",
    "                           ['landfill', 'landfill', 'recyclable'])))\\\n",
    ".drop(['long', 'lat', 'locality'], axis = 1)\\\n",
    ".melt(id_vars = 'postcode')\\\n",
    ".rename(columns = {'variable':'binInfo_bin_type', 'value':'collection_time'})\\\n",
    ".drop_duplicates(['postcode', 'binInfo_bin_type'])\n",
    "\n",
    "northerGrapians.to_csv('../GBD_northerGrapians.csv', index = False)"
   ]
  },
  {
   "cell_type": "code",
   "execution_count": null,
   "metadata": {},
   "outputs": [],
   "source": []
  }
 ],
 "metadata": {
  "kernelspec": {
   "display_name": "Python 3",
   "language": "python",
   "name": "python3"
  },
  "language_info": {
   "codemirror_mode": {
    "name": "ipython",
    "version": 3
   },
   "file_extension": ".py",
   "mimetype": "text/x-python",
   "name": "python",
   "nbconvert_exporter": "python",
   "pygments_lexer": "ipython3",
   "version": "3.8.5"
  }
 },
 "nbformat": 4,
 "nbformat_minor": 4
}
