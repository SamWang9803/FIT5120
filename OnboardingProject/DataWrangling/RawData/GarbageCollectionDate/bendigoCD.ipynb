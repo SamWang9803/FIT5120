{
 "cells": [
  {
   "cell_type": "code",
   "execution_count": 73,
   "metadata": {},
   "outputs": [],
   "source": [
    "import pandas as pd \n",
    "import json \n",
    "import shapefile\n",
    "from shapely.geometry import Point\n",
    "from shapely.geometry.polygon import Polygon\n",
    "import os \n",
    "import json\n",
    "import numpy as np"
   ]
  },
  {
   "cell_type": "code",
   "execution_count": 74,
   "metadata": {},
   "outputs": [],
   "source": [
    "def isNested(entry): \n",
    "    try: \n",
    "        sum(entry)\n",
    "        return 0 \n",
    "    except: \n",
    "        return 1"
   ]
  },
  {
   "cell_type": "code",
   "execution_count": 75,
   "metadata": {},
   "outputs": [],
   "source": [
    "def readInJson(fileName):\n",
    "    try: \n",
    "        df = pd.read_json(fileName)\n",
    "    except: \n",
    "        handle = json.load(open(fileName))\n",
    "        df = pd.DataFrame(handle['features'])\n",
    "        \n",
    "    return df"
   ]
  },
  {
   "cell_type": "code",
   "execution_count": 76,
   "metadata": {},
   "outputs": [],
   "source": [
    "lonlatSuburb = pd.read_csv('lonlatSuburb.csv')\n",
    "vicPostcodes = pd.read_csv('vicPostcodes.csv')\n",
    "\n",
    "lonlatSuburb['lat'] = lonlatSuburb.lat.apply(lambda x: round(x, 6))\n",
    "lonlatSuburb['long'] = lonlatSuburb.long.apply(lambda x: round(x, 6))\n",
    "\n",
    "vicPostcodes['lat'] = vicPostcodes.lat.apply(lambda x: round(x, 6))\n",
    "vicPostcodes['long'] = vicPostcodes.long.apply(lambda x: round(x, 6))"
   ]
  },
  {
   "cell_type": "code",
   "execution_count": 77,
   "metadata": {},
   "outputs": [
    {
     "data": {
      "text/html": [
       "<div>\n",
       "<style scoped>\n",
       "    .dataframe tbody tr th:only-of-type {\n",
       "        vertical-align: middle;\n",
       "    }\n",
       "\n",
       "    .dataframe tbody tr th {\n",
       "        vertical-align: top;\n",
       "    }\n",
       "\n",
       "    .dataframe thead th {\n",
       "        text-align: right;\n",
       "    }\n",
       "</style>\n",
       "<table border=\"1\" class=\"dataframe\">\n",
       "  <thead>\n",
       "    <tr style=\"text-align: right;\">\n",
       "      <th></th>\n",
       "      <th>type</th>\n",
       "      <th>id</th>\n",
       "      <th>geometry</th>\n",
       "      <th>geometry_name</th>\n",
       "      <th>properties</th>\n",
       "    </tr>\n",
       "  </thead>\n",
       "  <tbody>\n",
       "    <tr>\n",
       "      <th>0</th>\n",
       "      <td>Feature</td>\n",
       "      <td>ckan_c2f141ec_a3ac_4b42_a397_ba5ed0c5da46.1</td>\n",
       "      <td>{'type': 'MultiPolygon', 'coordinates': [[[[14...</td>\n",
       "      <td>geom</td>\n",
       "      <td>{'name': 'Thursday - Calendar B', 'rub_desc': ...</td>\n",
       "    </tr>\n",
       "    <tr>\n",
       "      <th>1</th>\n",
       "      <td>Feature</td>\n",
       "      <td>ckan_c2f141ec_a3ac_4b42_a397_ba5ed0c5da46.2</td>\n",
       "      <td>{'type': 'MultiPolygon', 'coordinates': [[[[14...</td>\n",
       "      <td>geom</td>\n",
       "      <td>{'name': 'Thursday - Calendar B (inc. Organics...</td>\n",
       "    </tr>\n",
       "  </tbody>\n",
       "</table>\n",
       "</div>"
      ],
      "text/plain": [
       "      type                                           id  \\\n",
       "0  Feature  ckan_c2f141ec_a3ac_4b42_a397_ba5ed0c5da46.1   \n",
       "1  Feature  ckan_c2f141ec_a3ac_4b42_a397_ba5ed0c5da46.2   \n",
       "\n",
       "                                            geometry geometry_name  \\\n",
       "0  {'type': 'MultiPolygon', 'coordinates': [[[[14...          geom   \n",
       "1  {'type': 'MultiPolygon', 'coordinates': [[[[14...          geom   \n",
       "\n",
       "                                          properties  \n",
       "0  {'name': 'Thursday - Calendar B', 'rub_desc': ...  \n",
       "1  {'name': 'Thursday - Calendar B (inc. Organics...  "
      ]
     },
     "execution_count": 77,
     "metadata": {},
     "output_type": "execute_result"
    }
   ],
   "source": [
    "garbageCollectionDate = sorted([i for i in os.listdir() if i.endswith('json')])\n",
    "readInJson(garbageCollectionDate[3]).head(2)"
   ]
  },
  {
   "cell_type": "code",
   "execution_count": 78,
   "metadata": {},
   "outputs": [
    {
     "data": {
      "text/plain": [
       "(0, 7)"
      ]
     },
     "execution_count": 78,
     "metadata": {},
     "output_type": "execute_result"
    }
   ],
   "source": [
    "df = readInJson(garbageCollectionDate[3])\n",
    "\n",
    "df['geo'] = df.geometry.apply(lambda x: x['coordinates'][0][0])\n",
    "\n",
    "df = df.explode('geo')\n",
    "\n",
    "df['geo_nested'] = df.geo.apply(lambda x: isNested(x))\n",
    "\n",
    "df.loc[df.geo_nested == 1,].shape"
   ]
  },
  {
   "cell_type": "code",
   "execution_count": 79,
   "metadata": {},
   "outputs": [],
   "source": [
    "df['lat'] = df.geo.apply(lambda x: round(x[0], 6))\n",
    "df['long'] = df.geo.apply(lambda x: round(x[1], 6))\n",
    "\n",
    "df.drop(['geo','id', 'geometry', 'geometry_name',\n",
    "         'geo_nested', 'type'], axis = 1, inplace = True)"
   ]
  },
  {
   "cell_type": "code",
   "execution_count": 80,
   "metadata": {},
   "outputs": [
    {
     "data": {
      "text/html": [
       "<div>\n",
       "<style scoped>\n",
       "    .dataframe tbody tr th:only-of-type {\n",
       "        vertical-align: middle;\n",
       "    }\n",
       "\n",
       "    .dataframe tbody tr th {\n",
       "        vertical-align: top;\n",
       "    }\n",
       "\n",
       "    .dataframe thead th {\n",
       "        text-align: right;\n",
       "    }\n",
       "</style>\n",
       "<table border=\"1\" class=\"dataframe\">\n",
       "  <thead>\n",
       "    <tr style=\"text-align: right;\">\n",
       "      <th></th>\n",
       "      <th>properties</th>\n",
       "      <th>lat</th>\n",
       "      <th>long</th>\n",
       "    </tr>\n",
       "  </thead>\n",
       "  <tbody>\n",
       "    <tr>\n",
       "      <th>0</th>\n",
       "      <td>{'name': 'Thursday - Calendar B', 'rub_desc': ...</td>\n",
       "      <td>144.221659</td>\n",
       "      <td>-36.716765</td>\n",
       "    </tr>\n",
       "    <tr>\n",
       "      <th>0</th>\n",
       "      <td>{'name': 'Thursday - Calendar B', 'rub_desc': ...</td>\n",
       "      <td>144.222379</td>\n",
       "      <td>-36.717348</td>\n",
       "    </tr>\n",
       "    <tr>\n",
       "      <th>0</th>\n",
       "      <td>{'name': 'Thursday - Calendar B', 'rub_desc': ...</td>\n",
       "      <td>144.222931</td>\n",
       "      <td>-36.716829</td>\n",
       "    </tr>\n",
       "    <tr>\n",
       "      <th>0</th>\n",
       "      <td>{'name': 'Thursday - Calendar B', 'rub_desc': ...</td>\n",
       "      <td>144.223166</td>\n",
       "      <td>-36.716607</td>\n",
       "    </tr>\n",
       "    <tr>\n",
       "      <th>0</th>\n",
       "      <td>{'name': 'Thursday - Calendar B', 'rub_desc': ...</td>\n",
       "      <td>144.223854</td>\n",
       "      <td>-36.717071</td>\n",
       "    </tr>\n",
       "    <tr>\n",
       "      <th>...</th>\n",
       "      <td>...</td>\n",
       "      <td>...</td>\n",
       "      <td>...</td>\n",
       "    </tr>\n",
       "    <tr>\n",
       "      <th>60</th>\n",
       "      <td>{'name': 'Wednesday - Calendar A', 'rub_desc':...</td>\n",
       "      <td>144.257785</td>\n",
       "      <td>-36.795824</td>\n",
       "    </tr>\n",
       "    <tr>\n",
       "      <th>60</th>\n",
       "      <td>{'name': 'Wednesday - Calendar A', 'rub_desc':...</td>\n",
       "      <td>144.257795</td>\n",
       "      <td>-36.795162</td>\n",
       "    </tr>\n",
       "    <tr>\n",
       "      <th>60</th>\n",
       "      <td>{'name': 'Wednesday - Calendar A', 'rub_desc':...</td>\n",
       "      <td>144.258293</td>\n",
       "      <td>-36.795082</td>\n",
       "    </tr>\n",
       "    <tr>\n",
       "      <th>60</th>\n",
       "      <td>{'name': 'Wednesday - Calendar A', 'rub_desc':...</td>\n",
       "      <td>144.257835</td>\n",
       "      <td>-36.791892</td>\n",
       "    </tr>\n",
       "    <tr>\n",
       "      <th>60</th>\n",
       "      <td>{'name': 'Wednesday - Calendar A', 'rub_desc':...</td>\n",
       "      <td>144.257532</td>\n",
       "      <td>-36.791759</td>\n",
       "    </tr>\n",
       "  </tbody>\n",
       "</table>\n",
       "<p>17967 rows × 3 columns</p>\n",
       "</div>"
      ],
      "text/plain": [
       "                                           properties         lat       long\n",
       "0   {'name': 'Thursday - Calendar B', 'rub_desc': ...  144.221659 -36.716765\n",
       "0   {'name': 'Thursday - Calendar B', 'rub_desc': ...  144.222379 -36.717348\n",
       "0   {'name': 'Thursday - Calendar B', 'rub_desc': ...  144.222931 -36.716829\n",
       "0   {'name': 'Thursday - Calendar B', 'rub_desc': ...  144.223166 -36.716607\n",
       "0   {'name': 'Thursday - Calendar B', 'rub_desc': ...  144.223854 -36.717071\n",
       "..                                                ...         ...        ...\n",
       "60  {'name': 'Wednesday - Calendar A', 'rub_desc':...  144.257785 -36.795824\n",
       "60  {'name': 'Wednesday - Calendar A', 'rub_desc':...  144.257795 -36.795162\n",
       "60  {'name': 'Wednesday - Calendar A', 'rub_desc':...  144.258293 -36.795082\n",
       "60  {'name': 'Wednesday - Calendar A', 'rub_desc':...  144.257835 -36.791892\n",
       "60  {'name': 'Wednesday - Calendar A', 'rub_desc':...  144.257532 -36.791759\n",
       "\n",
       "[17967 rows x 3 columns]"
      ]
     },
     "execution_count": 80,
     "metadata": {},
     "output_type": "execute_result"
    }
   ],
   "source": [
    "df"
   ]
  },
  {
   "cell_type": "code",
   "execution_count": 81,
   "metadata": {},
   "outputs": [],
   "source": [
    "def collectionFrequency(row, wasteType): \n",
    "    \n",
    "    rub_colDay = row[f'{wasteType}_day']\n",
    "    rub_colFreq = row[f'{wasteType}_weeks']\n",
    "    \n",
    "    if rub_colFreq == '2' or rub_colFreq == 2: \n",
    "        rub_colFreq = 'Every Second '\n",
    "    else: \n",
    "        rub_colFreq = 'Every '\n",
    "        \n",
    "    if rub_colDay in [None, 'None']:\n",
    "        rub_colDay = ''\n",
    "    elif rub_colFreq == [None, 'None']: \n",
    "        rub_colFreq = ''\n",
    "        \n",
    "    returningStr = rub_colFreq + rub_colDay\n",
    "    \n",
    "    if len(returningStr.split())>1:\n",
    "         return returningStr\n",
    "    else: \n",
    "        return 'Unavailable'\n",
    "\n",
    "df['landfill_colDay'] = df.properties.apply(lambda x: collectionFrequency(x, 'rub'))\n",
    "df['recyclable_colDay'] = df.properties.apply(lambda x: collectionFrequency(x, 'rec'))\n",
    "df['green_colDay'] = df.properties.apply(lambda x: collectionFrequency(x, 'grn'))"
   ]
  },
  {
   "cell_type": "code",
   "execution_count": 82,
   "metadata": {},
   "outputs": [],
   "source": [
    "df.drop('properties', axis = 1, inplace = True)"
   ]
  },
  {
   "cell_type": "code",
   "execution_count": 83,
   "metadata": {},
   "outputs": [],
   "source": [
    "bendigo = lonlatSuburb.merge(df)[['locality', 'long', 'lat', 'landfill_colDay', 'recyclable_colDay', 'green_colDay']]\\\n",
    ".sort_values(['locality', 'landfill_colDay', 'recyclable_colDay', 'green_colDay'])\\\n",
    "        .drop_duplicates(['locality','recyclable_colDay', 'recyclable_colDay', 'green_colDay'])\\\n",
    "        .sort_values(['locality'])\\\n",
    ".merge(vicPostcodes[['locality', 'postcode']])\\\n",
    ".sort_values(['postcode', 'landfill_colDay', 'recyclable_colDay', 'green_colDay'])\\\n",
    ".drop_duplicates(subset = ['postcode', 'landfill_colDay', 'recyclable_colDay', 'green_colDay'])\\\n",
    ".rename(columns = dict(zip(['landfill_colDay', 'recyclable_colDay', 'green_colDay'], \n",
    "                           ['landfill', 'recyclable', 'organics'])))\\\n",
    ".drop(['long', 'lat', 'locality'], axis = 1)\\\n",
    ".melt(id_vars = 'postcode')\\\n",
    ".rename(columns = {'variable':'binInfo_bin_type', 'value':'collection_time'})\n",
    "\n",
    "bendigo = bendigo.loc[bendigo.collection_time!= 'Unavailable']\n",
    "\n",
    "bendigo.to_csv('../GBD_bendigo.csv', index = False)"
   ]
  },
  {
   "cell_type": "code",
   "execution_count": null,
   "metadata": {},
   "outputs": [],
   "source": []
  }
 ],
 "metadata": {
  "kernelspec": {
   "display_name": "Python 3",
   "language": "python",
   "name": "python3"
  },
  "language_info": {
   "codemirror_mode": {
    "name": "ipython",
    "version": 3
   },
   "file_extension": ".py",
   "mimetype": "text/x-python",
   "name": "python",
   "nbconvert_exporter": "python",
   "pygments_lexer": "ipython3",
   "version": "3.8.5"
  }
 },
 "nbformat": 4,
 "nbformat_minor": 4
}
