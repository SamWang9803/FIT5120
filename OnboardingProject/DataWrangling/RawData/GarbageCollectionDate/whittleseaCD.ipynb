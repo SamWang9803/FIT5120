{
 "cells": [
  {
   "cell_type": "code",
   "execution_count": 1,
   "metadata": {},
   "outputs": [],
   "source": [
    "import pandas as pd \n",
    "import json \n",
    "import shapefile\n",
    "from shapely.geometry import Point\n",
    "from shapely.geometry.polygon import Polygon\n",
    "import os \n",
    "import json\n",
    "import numpy as np"
   ]
  },
  {
   "cell_type": "code",
   "execution_count": 2,
   "metadata": {},
   "outputs": [],
   "source": [
    "def isNested(entry): \n",
    "    try: \n",
    "        sum(entry)\n",
    "        return 0 \n",
    "    except: \n",
    "        return 1"
   ]
  },
  {
   "cell_type": "code",
   "execution_count": 3,
   "metadata": {},
   "outputs": [],
   "source": [
    "def readInJson(fileName):\n",
    "    try: \n",
    "        df = pd.read_json(fileName)\n",
    "    except: \n",
    "        handle = json.load(open(fileName))\n",
    "        df = pd.DataFrame(handle['features'])\n",
    "        \n",
    "    return df"
   ]
  },
  {
   "cell_type": "code",
   "execution_count": 4,
   "metadata": {},
   "outputs": [],
   "source": [
    "garbageCollectionDate = sorted([i for i in os.listdir() if i.endswith('json')])"
   ]
  },
  {
   "cell_type": "code",
   "execution_count": 5,
   "metadata": {},
   "outputs": [],
   "source": [
    "lonlatSuburb = pd.read_csv('lonlatSuburb.csv')\n",
    "vicPostcodes = pd.read_csv('vicPostcodes.csv')\n",
    "\n",
    "lonlatSuburb['lat'] = lonlatSuburb.lat.apply(lambda x: round(x, 6))\n",
    "lonlatSuburb['long'] = lonlatSuburb.long.apply(lambda x: round(x, 6))\n",
    "\n",
    "vicPostcodes['lat'] = vicPostcodes.lat.apply(lambda x: round(x, 6))\n",
    "vicPostcodes['long'] = vicPostcodes.long.apply(lambda x: round(x, 6))"
   ]
  },
  {
   "cell_type": "code",
   "execution_count": 14,
   "metadata": {},
   "outputs": [
    {
     "data": {
      "text/plain": [
       "'Whittlesea-garbage-collection-zones.geojson'"
      ]
     },
     "execution_count": 14,
     "metadata": {},
     "output_type": "execute_result"
    }
   ],
   "source": [
    "garbageCollectionDate[16]"
   ]
  },
  {
   "cell_type": "code",
   "execution_count": 15,
   "metadata": {},
   "outputs": [
    {
     "data": {
      "text/html": [
       "<div>\n",
       "<style scoped>\n",
       "    .dataframe tbody tr th:only-of-type {\n",
       "        vertical-align: middle;\n",
       "    }\n",
       "\n",
       "    .dataframe tbody tr th {\n",
       "        vertical-align: top;\n",
       "    }\n",
       "\n",
       "    .dataframe thead th {\n",
       "        text-align: right;\n",
       "    }\n",
       "</style>\n",
       "<table border=\"1\" class=\"dataframe\">\n",
       "  <thead>\n",
       "    <tr style=\"text-align: right;\">\n",
       "      <th></th>\n",
       "      <th>type</th>\n",
       "      <th>id</th>\n",
       "      <th>geometry</th>\n",
       "      <th>geometry_name</th>\n",
       "      <th>properties</th>\n",
       "    </tr>\n",
       "  </thead>\n",
       "  <tbody>\n",
       "    <tr>\n",
       "      <th>0</th>\n",
       "      <td>Feature</td>\n",
       "      <td>ckan_59083f37_5f22_48bf_8210_a0d3a26d7084.1</td>\n",
       "      <td>{'type': 'MultiPolygon', 'coordinates': [[[[14...</td>\n",
       "      <td>geom</td>\n",
       "      <td>{'name': 'Wednesday Week 1', 'desc_': 'Week 1'...</td>\n",
       "    </tr>\n",
       "    <tr>\n",
       "      <th>1</th>\n",
       "      <td>Feature</td>\n",
       "      <td>ckan_59083f37_5f22_48bf_8210_a0d3a26d7084.2</td>\n",
       "      <td>{'type': 'MultiPolygon', 'coordinates': [[[[14...</td>\n",
       "      <td>geom</td>\n",
       "      <td>{'name': 'Wednesday Week 2', 'desc_': 'Week 2'...</td>\n",
       "    </tr>\n",
       "  </tbody>\n",
       "</table>\n",
       "</div>"
      ],
      "text/plain": [
       "      type                                           id  \\\n",
       "0  Feature  ckan_59083f37_5f22_48bf_8210_a0d3a26d7084.1   \n",
       "1  Feature  ckan_59083f37_5f22_48bf_8210_a0d3a26d7084.2   \n",
       "\n",
       "                                            geometry geometry_name  \\\n",
       "0  {'type': 'MultiPolygon', 'coordinates': [[[[14...          geom   \n",
       "1  {'type': 'MultiPolygon', 'coordinates': [[[[14...          geom   \n",
       "\n",
       "                                          properties  \n",
       "0  {'name': 'Wednesday Week 1', 'desc_': 'Week 1'...  \n",
       "1  {'name': 'Wednesday Week 2', 'desc_': 'Week 2'...  "
      ]
     },
     "execution_count": 15,
     "metadata": {},
     "output_type": "execute_result"
    }
   ],
   "source": [
    "readInJson(garbageCollectionDate[16]).head(2)"
   ]
  },
  {
   "cell_type": "code",
   "execution_count": 11,
   "metadata": {},
   "outputs": [],
   "source": [
    "df = readInJson(garbageCollectionDate[16])\n",
    "\n",
    "df['geo'] = df.geometry.apply(lambda x: x['coordinates'][0][0])\n",
    "\n",
    "df = df.explode('geo')\n",
    "\n",
    "df['geo_nested'] = df.geo.apply(lambda x: isNested(x))\n",
    "df['lat'] = df.geo.apply(lambda x: round(x[0], 6))\n",
    "df['long'] = df.geo.apply(lambda x: round(x[1], 6))\n",
    "\n",
    "df.drop(['geo','id', 'geometry', 'geometry_name',\n",
    "         'geo_nested', 'type'], axis = 1, inplace = True)"
   ]
  },
  {
   "cell_type": "code",
   "execution_count": 7,
   "metadata": {},
   "outputs": [
    {
     "data": {
      "text/plain": [
       "{'name': 'Wednesday Week 1',\n",
       " 'desc_': 'Week 1',\n",
       " 'rub_day': 'Wednesday',\n",
       " 'rub_weeks': '1',\n",
       " 'rub_start': '2017-01-04',\n",
       " 'rub_scope': 'all',\n",
       " 'rub_desc': None,\n",
       " 'rec_day': 'Wednesday',\n",
       " 'rec_weeks': '2',\n",
       " 'rec_start': '2017-01-04',\n",
       " 'rec_scope': 'all',\n",
       " 'rec_desc': None,\n",
       " 'grn_day': 'Wednesday',\n",
       " 'grn_weeks': '2',\n",
       " 'grn_start': '2017-01-11',\n",
       " 'grn_scope': 'optional',\n",
       " 'grn_desc': None,\n",
       " 'hw_scope': 'booked',\n",
       " 'hw_desc': None,\n",
       " 'info_url': 'http://www.whittlesea.vic.gov.au/waste-environment/bins-and-waste-collection/'}"
      ]
     },
     "execution_count": 7,
     "metadata": {},
     "output_type": "execute_result"
    }
   ],
   "source": [
    "df.iloc[0,0]"
   ]
  },
  {
   "cell_type": "code",
   "execution_count": 12,
   "metadata": {},
   "outputs": [],
   "source": [
    "def collectionFrequency(row, wasteType): \n",
    "    \n",
    "    rub_colDay = row[f'{wasteType}_day']\n",
    "    rub_colFreq = row[f'{wasteType}_weeks']\n",
    "    \n",
    "    if rub_colFreq == '2' or rub_colFreq == 2: \n",
    "        rub_colFreq = 'Every Second '\n",
    "    else: \n",
    "        rub_colFreq = 'Every '\n",
    "        \n",
    "    if rub_colDay in [None, 'None']:\n",
    "        rub_colDay = ''\n",
    "    elif rub_colFreq == [None, 'None']: \n",
    "        rub_colFreq = ''\n",
    "        \n",
    "    returningStr = rub_colFreq + rub_colDay\n",
    "    \n",
    "    if len(returningStr.split())>1:\n",
    "         return returningStr\n",
    "    else: \n",
    "        return 'Unavailable'\n",
    "\n",
    "df['landfill_colDay'] = df.properties.apply(lambda x: collectionFrequency(x, 'rub'))\n",
    "df['recyclable_colDay'] = df.properties.apply(lambda x: collectionFrequency(x, 'rec'))\n",
    "df['green_colDay'] = df.properties.apply(lambda x: collectionFrequency(x, 'grn'))\n",
    "\n",
    "df.drop('properties', axis = 1, inplace = True)"
   ]
  },
  {
   "cell_type": "code",
   "execution_count": 13,
   "metadata": {},
   "outputs": [],
   "source": [
    "whittlesea = lonlatSuburb.merge(df)[['locality', 'long', 'lat', 'landfill_colDay', 'recyclable_colDay', 'green_colDay']]\\\n",
    ".sort_values(['locality', 'landfill_colDay', 'recyclable_colDay', 'green_colDay'])\\\n",
    "        .drop_duplicates(['locality','recyclable_colDay', 'recyclable_colDay', 'green_colDay'])\\\n",
    "        .sort_values(['locality'])\\\n",
    ".merge(vicPostcodes[['locality', 'postcode']])\\\n",
    ".sort_values(['postcode', 'landfill_colDay', 'recyclable_colDay', 'green_colDay'])\\\n",
    ".drop_duplicates(subset = ['postcode', 'landfill_colDay', 'recyclable_colDay', 'green_colDay'])\\\n",
    ".rename(columns = dict(zip(['landfill_colDay', 'recyclable_colDay', 'green_colDay'], \n",
    "                           ['landfill', 'recyclable', 'organics'])))\\\n",
    ".drop(['long', 'lat', 'locality'], axis = 1)\\\n",
    ".melt(id_vars = 'postcode')\\\n",
    ".rename(columns = {'variable':'binInfo_bin_type', 'value':'collection_time'})\\\n",
    ".drop_duplicates(['postcode', 'binInfo_bin_type'])\n",
    "\n",
    "whittlesea = whittlesea.loc[whittlesea.collection_time!= 'Unavailable']\n",
    "\n",
    "whittlesea.to_csv('../GBD_whittleseaa.csv', index = False)"
   ]
  }
 ],
 "metadata": {
  "kernelspec": {
   "display_name": "Python 3",
   "language": "python",
   "name": "python3"
  },
  "language_info": {
   "codemirror_mode": {
    "name": "ipython",
    "version": 3
   },
   "file_extension": ".py",
   "mimetype": "text/x-python",
   "name": "python",
   "nbconvert_exporter": "python",
   "pygments_lexer": "ipython3",
   "version": "3.8.5"
  }
 },
 "nbformat": 4,
 "nbformat_minor": 4
}
