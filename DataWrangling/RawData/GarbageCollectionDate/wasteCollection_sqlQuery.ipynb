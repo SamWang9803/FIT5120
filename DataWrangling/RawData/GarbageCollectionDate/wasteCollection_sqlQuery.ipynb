{
 "cells": [
  {
   "cell_type": "code",
   "execution_count": 64,
   "metadata": {},
   "outputs": [],
   "source": [
    "import pandas as pd \n",
    "import json \n",
    "import shapefile\n",
    "from shapely.geometry import Point\n",
    "from shapely.geometry.polygon import Polygon\n",
    "import os \n",
    "import json\n",
    "import numpy as np\n",
    "import re\n",
    "\n",
    "wasteCollectionDate = pd.concat([pd.read_csv('../'+i) for i in os.listdir('..') if i.startswith('GBD')])\\\n",
    ".sort_values(['binInfo_bin_type', 'postcode'])\\\n",
    ".drop_duplicates()\\\n",
    ".reset_index(drop = True)\n",
    "\n",
    "wasteCollectionDate['postcode'] = wasteCollectionDate.postcode.astype(str).str.zfill(4)\n",
    "\n",
    "wasteCollectionDate['i'] = wasteCollectionDate.groupby(['postcode', 'binInfo_bin_type']).transform('sum')\n",
    "\n",
    "correctStrings = wasteCollectionDate.loc[~wasteCollectionDate.i.str.contains('Every (.+)dayEvery')]\n",
    "\n",
    "wrongStrings = wasteCollectionDate.loc[wasteCollectionDate.i.str.contains('Every (.+)dayEvery')]\\\n",
    ".drop_duplicates(['binInfo_bin_type', 'postcode', 'i'])\n",
    "\n",
    "wrongStrings['i'] = wrongStrings.i.apply(lambda x: re.sub('day(Every )', 'day or ', x))\\\n",
    ".apply(lambda x: re.sub('day or Second ', 'day or ', x))\\\n",
    ".apply(lambda x: if re.findall('[Friday]'))\n",
    "\n",
    "wasteCollectionDate = pd.concat([correctStrings, wrongStrings]).drop('collection_time', axis = 1)\\\n",
    ".sort_values(['postcode', 'binInfo_bin_type'])\\\n",
    ".rename(columns = {'i':'collection_time'})\\\n",
    ".reset_index(drop = True)\n",
    "\n",
    "insertQuery = 'INSERT INTO wasteCollection(binInfo_bin_type, postcode, collection_time) VALUES\\n'\n",
    "values = ''\n",
    "\n",
    "for i in wasteCollectionDate.index: \n",
    "    values = values + f'(\"{wasteCollectionDate.binInfo_bin_type[i].strip()}\", \"{wasteCollectionDate.postcode[i].strip()}\", \"{wasteCollectionDate.collection_time[i].strip()}\"),\\n'.replace('\"', \"'\")\n",
    "\n",
    "with open('wasteCollection.sql', 'w+') as output: \n",
    "    output.write((insertQuery + values).rstrip(','))\n",
    "\n",
    "output.close()"
   ]
  },
  {
   "cell_type": "code",
   "execution_count": 154,
   "metadata": {},
   "outputs": [],
   "source": [
    "wasteCollectionDate.to_csv('wasteCollectionDate.csv', index = False)"
   ]
  }
 ],
 "metadata": {
  "kernelspec": {
   "display_name": "Python 3",
   "language": "python",
   "name": "python3"
  },
  "language_info": {
   "codemirror_mode": {
    "name": "ipython",
    "version": 3
   },
   "file_extension": ".py",
   "mimetype": "text/x-python",
   "name": "python",
   "nbconvert_exporter": "python",
   "pygments_lexer": "ipython3",
   "version": "3.8.5"
  }
 },
 "nbformat": 4,
 "nbformat_minor": 4
}
