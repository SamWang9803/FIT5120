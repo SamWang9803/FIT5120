{
 "cells": [
  {
   "cell_type": "code",
   "execution_count": 1,
   "metadata": {},
   "outputs": [],
   "source": [
    "import pandas as pd \n",
    "import json \n",
    "import shapefile\n",
    "from shapely.geometry import Point\n",
    "from shapely.geometry.polygon import Polygon\n",
    "import os \n",
    "import json\n",
    "import numpy as np"
   ]
  },
  {
   "cell_type": "code",
   "execution_count": 2,
   "metadata": {},
   "outputs": [],
   "source": [
    "def isNested(entry): \n",
    "    try: \n",
    "        sum(entry)\n",
    "        return 0 \n",
    "    except: \n",
    "        return 1"
   ]
  },
  {
   "cell_type": "code",
   "execution_count": 3,
   "metadata": {},
   "outputs": [],
   "source": [
    "def readInJson(fileName):\n",
    "    try: \n",
    "        df = pd.read_json(fileName)\n",
    "    except: \n",
    "        handle = json.load(open(fileName))\n",
    "        df = pd.DataFrame(handle['features'])\n",
    "        \n",
    "    return df"
   ]
  },
  {
   "cell_type": "code",
   "execution_count": 4,
   "metadata": {},
   "outputs": [],
   "source": [
    "garbageCollectionDate = sorted([i for i in os.listdir() if i.endswith('json')])"
   ]
  },
  {
   "cell_type": "code",
   "execution_count": 5,
   "metadata": {},
   "outputs": [],
   "source": [
    "lonlatSuburb = pd.read_csv('lonlatSuburb.csv')\n",
    "vicPostcodes = pd.read_csv('vicPostcodes.csv')\n",
    "\n",
    "lonlatSuburb['lat'] = lonlatSuburb.lat.apply(lambda x: round(x, 6))\n",
    "lonlatSuburb['long'] = lonlatSuburb.long.apply(lambda x: round(x, 6))\n",
    "\n",
    "vicPostcodes['lat'] = vicPostcodes.lat.apply(lambda x: round(x, 6))\n",
    "vicPostcodes['long'] = vicPostcodes.long.apply(lambda x: round(x, 6))"
   ]
  },
  {
   "cell_type": "code",
   "execution_count": 7,
   "metadata": {},
   "outputs": [
    {
     "data": {
      "text/plain": [
       "'CentralGoldfieldsShireCouncil-garbage-collection-zones.json'"
      ]
     },
     "execution_count": 7,
     "metadata": {},
     "output_type": "execute_result"
    }
   ],
   "source": [
    "garbageCollectionDate[1]"
   ]
  },
  {
   "cell_type": "code",
   "execution_count": 8,
   "metadata": {},
   "outputs": [
    {
     "data": {
      "text/html": [
       "<div>\n",
       "<style scoped>\n",
       "    .dataframe tbody tr th:only-of-type {\n",
       "        vertical-align: middle;\n",
       "    }\n",
       "\n",
       "    .dataframe tbody tr th {\n",
       "        vertical-align: top;\n",
       "    }\n",
       "\n",
       "    .dataframe thead th {\n",
       "        text-align: right;\n",
       "    }\n",
       "</style>\n",
       "<table border=\"1\" class=\"dataframe\">\n",
       "  <thead>\n",
       "    <tr style=\"text-align: right;\">\n",
       "      <th></th>\n",
       "      <th>name</th>\n",
       "      <th>type</th>\n",
       "      <th>features</th>\n",
       "    </tr>\n",
       "  </thead>\n",
       "  <tbody>\n",
       "    <tr>\n",
       "      <th>0</th>\n",
       "      <td>Central Goldfields Garbage Collection Zones</td>\n",
       "      <td>FeatureCollection</td>\n",
       "      <td>{'type': 'Feature', 'geometry': {'type': 'Poly...</td>\n",
       "    </tr>\n",
       "    <tr>\n",
       "      <th>1</th>\n",
       "      <td>Central Goldfields Garbage Collection Zones</td>\n",
       "      <td>FeatureCollection</td>\n",
       "      <td>{'type': 'Feature', 'geometry': {'type': 'Poly...</td>\n",
       "    </tr>\n",
       "  </tbody>\n",
       "</table>\n",
       "</div>"
      ],
      "text/plain": [
       "                                          name               type  \\\n",
       "0  Central Goldfields Garbage Collection Zones  FeatureCollection   \n",
       "1  Central Goldfields Garbage Collection Zones  FeatureCollection   \n",
       "\n",
       "                                            features  \n",
       "0  {'type': 'Feature', 'geometry': {'type': 'Poly...  \n",
       "1  {'type': 'Feature', 'geometry': {'type': 'Poly...  "
      ]
     },
     "execution_count": 8,
     "metadata": {},
     "output_type": "execute_result"
    }
   ],
   "source": [
    "readInJson(garbageCollectionDate[1]).head(2)"
   ]
  },
  {
   "cell_type": "code",
   "execution_count": 18,
   "metadata": {},
   "outputs": [
    {
     "data": {
      "text/plain": [
       "0"
      ]
     },
     "execution_count": 18,
     "metadata": {},
     "output_type": "execute_result"
    }
   ],
   "source": [
    "df = readInJson(garbageCollectionDate[2])\n",
    "\n",
    "df['geo'] = df.geometry.apply(lambda x: x['coordinates'][0][0])\n",
    "\n",
    "df = df.explode('geo')\n",
    "\n",
    "df['geo_nested'] = df.geo.apply(lambda x: isNested(x))\n",
    "df.loc[df.geo_nested!=0].shape[0]"
   ]
  },
  {
   "cell_type": "code",
   "execution_count": 19,
   "metadata": {},
   "outputs": [],
   "source": [
    "df['lat'] = df.geo.apply(lambda x: round(x[0], 6))\n",
    "df['long'] = df.geo.apply(lambda x: round(x[1], 6))\n",
    "\n",
    "df.drop(['geo', 'type', 'id', 'geometry', 'geometry_name', 'geo_nested'], axis = 1, inplace = True)"
   ]
  },
  {
   "cell_type": "code",
   "execution_count": 20,
   "metadata": {},
   "outputs": [
    {
     "data": {
      "text/plain": [
       "{'rub_sched': 'R/2015-01-07/P2W',\n",
       " 'rec_sched': 'R/2015-01-14/P2W',\n",
       " 'grn_sched': 'R/2015-01-07/P2W',\n",
       " 'name': 'W2',\n",
       " 'desc': 'Area2',\n",
       " 'rub_cmt': 'Household waste (Red lid bin) - 120 litres',\n",
       " 'rec_cmt': 'Recycling (Yellow lid bin) - 240 litres (120 litres for units and townhouses)',\n",
       " 'grn_cmt': 'Green waste (Green lid bin) - 240 litres (120 litres for units and townhouses)',\n",
       " 'info_url': 'http://www.geelongaustralia.com.au/residents/waste/default.aspx',\n",
       " 'missed_ph': '(03)52725272'}"
      ]
     },
     "execution_count": 20,
     "metadata": {},
     "output_type": "execute_result"
    }
   ],
   "source": [
    "df.iloc[0,0]"
   ]
  },
  {
   "cell_type": "code",
   "execution_count": 21,
   "metadata": {},
   "outputs": [],
   "source": [
    "newCols = ['landfill_colDay', \n",
    "           'recyclable_colDay',\n",
    "          'green_colDay',]\n",
    "newColsKeys = ['rub_sched', \n",
    "               'rec_sched', \n",
    "              'grn_sched']\n",
    "\n",
    "for key, val in dict(zip(newCols, newColsKeys)).items(): \n",
    "    df[key] = df.properties.apply(lambda x: x[val])\n",
    "\n",
    "for i in ['landfill', 'recyclable', 'green']: \n",
    "    df[f'{i}_date'] = df[f'{i}_colDay'].apply(lambda x: x.split('/')[1])\n",
    "    df[f'{i}_date'] = pd.to_datetime(df[f'{i}_date'], format='%Y-%m-%d').dt.day_name()\n",
    "    df[f'{i}_freq'] = df[f'{i}_colDay'].apply(lambda x: x.split('/')[-1])\n",
    "    df[f'{i}_freq'] = df[f'{i}_freq'].apply(lambda x: 'Every Second ' if x == 'P2W' else 'Every ')\n",
    "    \n",
    "    df[f'{i}_colDay'] = df[f'{i}_freq'] + df[f'{i}_date']\n",
    "    \n",
    "    df.drop([f'{i}_freq', f'{i}_date'], axis = 1, inplace = True)"
   ]
  },
  {
   "cell_type": "code",
   "execution_count": 26,
   "metadata": {},
   "outputs": [],
   "source": [
    "goldfield = lonlatSuburb.merge(df)[['locality', 'long', 'lat', 'landfill_colDay', 'recyclable_colDay', 'green_colDay']]\\\n",
    ".sort_values(['locality', 'landfill_colDay', 'recyclable_colDay', 'green_colDay'])\\\n",
    "        .drop_duplicates(['locality','recyclable_colDay', 'recyclable_colDay', 'green_colDay'])\\\n",
    "        .sort_values(['locality'])\\\n",
    ".merge(vicPostcodes[['locality', 'postcode']])\\\n",
    ".sort_values(['postcode', 'landfill_colDay', 'recyclable_colDay', 'green_colDay'])\\\n",
    ".drop_duplicates(subset = ['postcode', 'landfill_colDay', 'recyclable_colDay', 'green_colDay'])\\\n",
    ".rename(columns = dict(zip(['landfill_colDay', 'recyclable_colDay', 'green_colDay'], \n",
    "                           ['landfill', 'recyclable', 'organics'])))\\\n",
    ".drop(['long', 'lat', 'locality'], axis = 1)\\\n",
    ".melt(id_vars = 'postcode')\\\n",
    ".rename(columns = {'variable':'binInfo_bin_type', 'value':'collection_time'})\n",
    "\n",
    "goldfield.to_csv('../GBD_goldfield.csv', index = False)"
   ]
  }
 ],
 "metadata": {
  "kernelspec": {
   "display_name": "Python 3",
   "language": "python",
   "name": "python3"
  },
  "language_info": {
   "codemirror_mode": {
    "name": "ipython",
    "version": 3
   },
   "file_extension": ".py",
   "mimetype": "text/x-python",
   "name": "python",
   "nbconvert_exporter": "python",
   "pygments_lexer": "ipython3",
   "version": "3.8.5"
  }
 },
 "nbformat": 4,
 "nbformat_minor": 4
}
